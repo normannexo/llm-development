{
 "cells": [
  {
   "cell_type": "code",
   "execution_count": 2,
   "metadata": {},
   "outputs": [],
   "source": [
    "# download greens manifesto\n",
    "import os\n",
    "import requests\n",
    "\n",
    "# create subfolder if it does not exist\n",
    "subfolder = \"EXAMPLEFILES/PDF\"\n",
    "if not os.path.exists(subfolder):\n",
    "    os.makedirs(subfolder)\n",
    "\n",
    "# download the file\n",
    "url = \"https://cms.gruene.de/uploads/assets/20210311_Grundsatzprogramm_EN.pdf\"\n",
    "response = requests.get(url)\n",
    "\n",
    "# save the file\n",
    "filename = os.path.join(subfolder, os.path.basename(url))\n",
    "with open(filename, \"wb\") as f:\n",
    "    f.write(response.content)\n"
   ]
  },
  {
   "cell_type": "markdown",
   "metadata": {},
   "source": []
  }
 ],
 "metadata": {
  "kernelspec": {
   "display_name": ".venv",
   "language": "python",
   "name": "python3"
  },
  "language_info": {
   "codemirror_mode": {
    "name": "ipython",
    "version": 3
   },
   "file_extension": ".py",
   "mimetype": "text/x-python",
   "name": "python",
   "nbconvert_exporter": "python",
   "pygments_lexer": "ipython3",
   "version": "3.12.1"
  }
 },
 "nbformat": 4,
 "nbformat_minor": 2
}
