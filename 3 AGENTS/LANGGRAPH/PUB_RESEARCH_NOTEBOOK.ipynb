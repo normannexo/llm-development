{
 "cells": [
  {
   "cell_type": "code",
   "execution_count": 15,
   "id": "433cf453",
   "metadata": {},
   "outputs": [
    {
     "name": "stdout",
     "output_type": "stream",
     "text": [
      "  +-----------+  \n",
      "  | __start__ |  \n",
      "  +-----------+  \n",
      "        *        \n",
      "        *        \n",
      "        *        \n",
      "+--------------+ \n",
      "| orchestrator | \n",
      "+--------------+ \n",
      "        *        \n",
      "        *        \n",
      "        *        \n",
      "  +---------+    \n",
      "  | __end__ |    \n",
      "  +---------+    \n"
     ]
    },
    {
     "data": {
      "image/png": "[encoded data removed]",
      "text/plain": [
       "<IPython.core.display.Image object>"
      ]
     },
     "metadata": {},
     "output_type": "display_data"
    }
   ],
   "source": [
    "from langgraph.prebuilt import ToolNode, tools_condition\n",
    "from langchain_mistralai import ChatMistralAI\n",
    "from langchain_tavily import TavilySearch\n",
    "from pydantic import BaseModel\n",
    "from langgraph.graph import StateGraph, START, END\n",
    "from langgraph.graph import add_messages\n",
    "from typing_extensions import TypedDict\n",
    "from typing import Annotated\n",
    "from dotenv import load_dotenv\n",
    "load_dotenv()\n",
    "\n",
    "llm = ChatMistralAI(\n",
    "    model=\"mistral-medium-latest\",\n",
    "    temperature=0,\n",
    "    max_retries=2,\n",
    ")\n",
    "\n",
    "tavily_search_tool = TavilySearch(\n",
    "    max_results=5,\n",
    "    topic=\"general\",\n",
    "    # include_answer=False,\n",
    "    # include_raw_content=False,\n",
    "    # include_images=False,\n",
    "    # include_image_descriptions=False,\n",
    "    # search_depth=\"basic\",\n",
    "    # time_range=\"day\",\n",
    "    # include_domains=None,\n",
    "    # exclude_domains=None\n",
    ")\n",
    "\n",
    "def get_weather(city: str) -> str:  \n",
    "    \"\"\"Get weather for a given city.\"\"\"\n",
    "    return f\"It's always sunny in {city}!\"\n",
    "\n",
    "tools = [get_weather, tavily_search_tool]\n",
    "model =llm.bind_tools(tools)\n",
    "\n",
    "class State(TypedDict):\n",
    "    messages: Annotated[list, add_messages]\n",
    "\n",
    "def custom_tools_condition(state):  \n",
    "    # Check if there are tool calls using the same logic as tools_condition  \n",
    "    if isinstance(state, list):  \n",
    "        ai_message = state[-1]  \n",
    "    elif isinstance(state, dict) and (messages := state.get(\"messages\", [])):  \n",
    "        ai_message = messages[-1]  \n",
    "    else:  \n",
    "        raise ValueError(f\"No messages found in input state: {state}\")  \n",
    "      \n",
    "    if hasattr(ai_message, \"tool_calls\") and len(ai_message.tool_calls) > 0:  \n",
    "        return \"tools\"  # Instead of \"tools\"  \n",
    "    return \"orchestrator\"  # Instead of \"__end__\"\n",
    "\n",
    "def model_node(state: State) -> State:\n",
    "    res = model.invoke(state[\"messages\"])\n",
    "    return {\"messages\": res}\n",
    "\n",
    "def orchestrator_node(state: State) -> State:\n",
    "    return {\"messages\": state[\"messages\"]}\n",
    "\n",
    "def done_condition(state):\n",
    "    if state[\"messages\"][-1].content == \"end\":\n",
    "        return \"__end__\"\n",
    "    else:\n",
    "        return \"model\"\n",
    "\n",
    "builder = StateGraph(State)\n",
    "builder.add_node(\"model\", model_node)\n",
    "builder.add_node(\"orchestrator\", orchestrator_node)\n",
    "builder.add_node(\"tools\", ToolNode(tools))\n",
    "builder.add_edge(START, \"orchestrator\")\n",
    "builder.add_conditional_edges(\"orchestrator\", done_condition)\n",
    "builder.add_conditional_edges(\"model\", custom_tools_condition)\n",
    "builder.add_edge(\"tools\", \"model\")\n",
    "#builder.add_edge(\"orchestrator\", END)\n",
    "\n",
    "graph = builder.compile()\n",
    "print(graph.get_graph().draw_ascii())\n",
    "from IPython.display import Image, display\n",
    "\n",
    "display(Image(graph.get_graph().draw_mermaid_png()))"
   ]
  },
  {
   "cell_type": "code",
   "execution_count": 5,
   "id": "fc8c67e6",
   "metadata": {},
   "outputs": [
    {
     "data": {
      "text/plain": [
       "{'messages': [HumanMessage(content='provide the webpage of ksta.', additional_kwargs={}, response_metadata={}, id='3f854d48-715b-430a-866f-6f7770fe2763'),\n",
       "  AIMessage(content='', additional_kwargs={'tool_calls': [{'id': 'bLD3I9qJ9', 'function': {'name': 'tavily_search', 'arguments': '{\"query\": \"ksta webpage\"}'}, 'index': 0}]}, response_metadata={'token_usage': {'prompt_tokens': 1148, 'total_tokens': 1163, 'completion_tokens': 15}, 'model_name': 'mistral-medium-latest', 'model': 'mistral-medium-latest', 'finish_reason': 'tool_calls'}, id='run-e7d9a4d9-0c80-4ab6-a64e-a5881075f254-0', tool_calls=[{'name': 'tavily_search', 'args': {'query': 'ksta webpage'}, 'id': 'bLD3I9qJ9', 'type': 'tool_call'}], usage_metadata={'input_tokens': 1148, 'output_tokens': 15, 'total_tokens': 1163}),\n",
       "  ToolMessage(content='{\"query\": \"ksta webpage\", \"follow_up_questions\": null, \"answer\": null, \"images\": [], \"results\": [{\"title\": \"Kentucky Science Teachers Association hosting annual conference Nov. 3-5\", \"url\": \"https://www.kentuckyteacher.org/bulletin-board/2022/08/kentucky-science-teachers-association-hosting-annual-conference-nov-3-5/\", \"content\": \"The Kentucky Science Teachers Association (KSTA) will be hosting its annual conference in-person on Nov. 3 (pre-conference sessions) and Nov. 4-5 (conference sessions and exhibits) at Eastern Kentucky University. KSTA is one of the premier science education conferences and a must-attend event for any Kentucky science educator seeking to stay on top of the latest trends,\", \"score\": 0.6356076, \"raw_content\": null}, {\"title\": \"ksta.de - Aktuelle Nachrichten aus Köln, dem Rheinland und der Welt ...\", \"url\": \"https://www.ksta.de/\", \"content\": \"ksta.de - Aktuelle Nachrichten und Informationen aus Köln, der Region und dem Rheinland sowie aus Politik, Wirtschaft, Sport, Kultur, Unterhaltung und Ratgeber.\", \"score\": 0.63179934, \"raw_content\": null}, {\"title\": \"KSTA Coleman County Texas Radio, since 1951\", \"url\": \"https://colemanradio.com/\", \"content\": \"KSTA studios serve Coleman County, Texas and the surrounding area with News, Sports, and Weather & classic Country-Western Music\", \"score\": 0.5920305, \"raw_content\": null}, {\"title\": \"Home [www.ksta.org]\", \"url\": \"https://www.ksta.org/\", \"content\": \"KSTA Blue Baseball Shirt. $21.00. $16.00 - Member price Science News. Adopt-a-Cow. Saturday, May 24, 2025 7:20 PM. Madison Staton. PIMSER Summer Offerings. Saturday, March 15, 2025 7:19 PM. Madison Staton. Bring the World of Nanotechnology to Your Classroom with Virtual NanoSIMST 2025!\", \"score\": 0.4921643, \"raw_content\": null}, {\"title\": \"Kölner Stadt-Anzeiger e-paper\", \"url\": \"https://epages.ksta.de/\", \"content\": \"Bitte wählen Sie eine Region. Bergheim. Euskirchen\", \"score\": 0.37518036, \"raw_content\": null}], \"response_time\": 1.67}', name='tavily_search', id='02082172-6b0a-4b35-8ad2-9454fe997082', tool_call_id='bLD3I9qJ9'),\n",
       "  AIMessage(content='The webpage for KSTA can be found at the following URL: [KSTA Webpage](https://www.ksta.de/). This site provides current news and information from Cologne, the Rhineland region, and around the world, covering topics such as politics, economy, sports, culture, entertainment, and advice.', additional_kwargs={}, response_metadata={'token_usage': {'prompt_tokens': 1787, 'total_tokens': 1853, 'completion_tokens': 66}, 'model_name': 'mistral-medium-latest', 'model': 'mistral-medium-latest', 'finish_reason': 'stop'}, id='run-643c706c-fae0-4f2d-b91e-99420de95441-0', usage_metadata={'input_tokens': 1787, 'output_tokens': 66, 'total_tokens': 1853})]}"
      ]
     },
     "execution_count": 5,
     "metadata": {},
     "output_type": "execute_result"
    }
   ],
   "source": [
    "graph.invoke({\"messages\": [{\"role\": \"user\", \"content\": \"provide the webpage of ksta.\"}]})"
   ]
  },
  {
   "cell_type": "code",
   "execution_count": null,
   "id": "41e052d4",
   "metadata": {},
   "outputs": [
    {
     "data": {
      "image/png": "[encoded data removed]",
      "text/plain": [
       "<IPython.core.display.Image object>"
      ]
     },
     "metadata": {},
     "output_type": "display_data"
    },
    {
     "name": "stdout",
     "output_type": "stream",
     "text": [
      "        +-----------+         \n",
      "        | __start__ |         \n",
      "        +-----------+         \n",
      "              *               \n",
      "              *               \n",
      "              *               \n",
      "      +--------------+        \n",
      "      | orchestrator |        \n",
      "      +--------------+        \n",
      "         .         ..         \n",
      "       ..            .        \n",
      "      .               ..      \n",
      "+-------+               .     \n",
      "| model |.              .     \n",
      "+-------+ ...           .     \n",
      "    .        ...        .     \n",
      "    .           ...     .     \n",
      "    .              ..   .     \n",
      "+-------+         +---------+ \n",
      "| tools |         | __end__ | \n",
      "+-------+         +---------+ \n"
     ]
    }
   ],
   "source": [
    "from langgraph.prebuilt import ToolNode, tools_condition\n",
    "from langchain_mistralai import ChatMistralAI\n",
    "from langchain_tavily import TavilySearch\n",
    "from pydantic import BaseModel\n",
    "from langgraph.graph import StateGraph, START, END\n",
    "from langgraph.graph import add_messages\n",
    "from typing_extensions import TypedDict, Literal\n",
    "from typing import Annotated\n",
    "from dotenv import load_dotenv\n",
    "load_dotenv()\n",
    "\n",
    "llm = ChatMistralAI(\n",
    "    model=\"mistral-medium-latest\",\n",
    "    temperature=0,\n",
    "    max_retries=2,\n",
    ")\n",
    "\n",
    "tavily_search_tool = TavilySearch(\n",
    "    max_results=5,\n",
    "    topic=\"general\",\n",
    ")\n",
    "\n",
    "def get_weather(city: str) -> str:  \n",
    "    \"\"\"Get weather for a given city.\"\"\"\n",
    "    return f\"It's always sunny in {city}!\"\n",
    "\n",
    "tools = [get_weather, tavily_search_tool]\n",
    "model =llm.bind_tools(tools)\n",
    "\n",
    "class State(TypedDict):\n",
    "    messages: Annotated[list, add_messages]\n",
    "\n",
    "def custom_tools_condition(state: State) -> Literal[\"tools\", \"orchestrator\"]:  \n",
    "    # Get the last message from the state\n",
    "    if isinstance(state, dict) and \"messages\" in state:\n",
    "        messages = state[\"messages\"]\n",
    "        if messages and hasattr(messages[-1], \"tool_calls\"):\n",
    "            return \"tools\"\n",
    "    return \"orchestrator\"\n",
    "\n",
    "def model_node(state: State) -> State:\n",
    "    res = model.invoke(state[\"messages\"])\n",
    "    return {\"messages\": res}\n",
    "\n",
    "def orchestrator_node(state: State) -> State:\n",
    "    return {\"messages\": state[\"messages\"]}\n",
    "\n",
    "def done_condition(state):\n",
    "    # Check if the last message indicates we're done\n",
    "    if isinstance(state, dict) and \"messages\" in state:\n",
    "        messages = state[\"messages\"]\n",
    "        if messages and messages[-1].content.strip().lower() == \"end\":\n",
    "            return \"__end__\"\n",
    "    return \"model\"\n",
    "\n",
    "builder = StateGraph(State)\n",
    "builder.add_node(\"model\", model_node)\n",
    "builder.add_node(\"orchestrator\", orchestrator_node)\n",
    "builder.add_node(\"tools\", ToolNode(tools))\n",
    "builder.add_edge(START, \"orchestrator\")\n",
    "builder.add_conditional_edges(\"orchestrator\", done_condition, path_map={\"__end__\": END, \"model\": \"model\"})\n",
    "builder.add_conditional_edges(\"model\", tools_condition, path_map={\"tools\": \"tools\", \"__end__\": \"orchestrator\"})\n",
    "builder.add_edge(\"tools\", \"model\")\n",
    "builder.add_edge(\"orchestrator\", END)\n",
    "\n",
    "graph = builder.compile()\n",
    "from IPython.display import Image, display\n",
    "\n",
    "display(Image(graph.get_graph().draw_mermaid_png()))\n",
    "print(graph.get_graph().draw_ascii())"
   ]
  },
  {
   "cell_type": "code",
   "execution_count": null,
   "id": "18a75921",
   "metadata": {},
   "outputs": [],
   "source": []
  }
 ],
 "metadata": {
  "kernelspec": {
   "display_name": ".venv",
   "language": "python",
   "name": "python3"
  },
  "language_info": {
   "codemirror_mode": {
    "name": "ipython",
    "version": 3
   },
   "file_extension": ".py",
   "mimetype": "text/x-python",
   "name": "python",
   "nbconvert_exporter": "python",
   "pygments_lexer": "ipython3",
   "version": "3.12.1"
  }
 },
 "nbformat": 4,
 "nbformat_minor": 5
}
