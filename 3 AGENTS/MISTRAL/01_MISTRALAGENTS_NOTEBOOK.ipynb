{
 "cells": [
  {
   "cell_type": "markdown",
   "id": "3c23a654",
   "metadata": {},
   "source": [
    "# MISTRAL AGENTS\n",
    "docs: https://docs.mistral.ai/agents/agents_introduction/"
   ]
  },
  {
   "cell_type": "code",
   "execution_count": 2,
   "id": "6344f40d",
   "metadata": {},
   "outputs": [
    {
     "data": {
      "text/plain": [
       "Agent(model='mistral-medium-2505', name='Simple Agent', id='ag_06839297eef97dec800070bbd4161229', version=0, created_at=datetime.datetime(2025, 5, 30, 3, 43, 58, 939464, tzinfo=TzInfo(UTC)), updated_at=datetime.datetime(2025, 5, 30, 3, 43, 58, 939467, tzinfo=TzInfo(UTC)), instructions=None, tools=[], completion_args=CompletionArgs(stop=None, presence_penalty=None, frequency_penalty=None, temperature=0.3, top_p=None, max_tokens=None, random_seed=None, prediction=None, response_format=None, tool_choice='auto'), description='A simple Agent with persistent state.', handoffs=None, object='agent')"
      ]
     },
     "execution_count": 2,
     "metadata": {},
     "output_type": "execute_result"
    }
   ],
   "source": [
    "import os\n",
    "from mistralai import Mistral\n",
    "\n",
    "api_key = os.environ[\"MISTRAL_API_KEY\"]\n",
    "client = Mistral(api_key)\n",
    "\n",
    "simple_agent = client.beta.agents.create(\n",
    "    model=\"mistral-medium-2505\",\n",
    "    description=\"A simple Agent with persistent state.\",\n",
    "    name=\"Simple Agent\"\n",
    ")\n",
    "simple_agent"
   ]
  },
  {
   "cell_type": "code",
   "execution_count": 3,
   "id": "16d59ef6",
   "metadata": {},
   "outputs": [],
   "source": [
    "websearch_agent = client.beta.agents.create(\n",
    "    model=\"mistral-medium-2505\",\n",
    "    description=\"Agent able to search information over the web, such as news, weather, sport results...\",\n",
    "    name=\"Websearch Agent\",\n",
    "    instructions=\"You have the ability to perform web searches with `web_search` to find up-to-date information.\",\n",
    "    tools=[{\"type\": \"web_search\"}],\n",
    "    completion_args={\n",
    "        \"temperature\": 0.3,\n",
    "        \"top_p\": 0.95,\n",
    "    }\n",
    ")"
   ]
  },
  {
   "cell_type": "code",
   "execution_count": 4,
   "id": "3fc72250",
   "metadata": {},
   "outputs": [],
   "source": [
    "response = client.beta.conversations.start(\n",
    "    agent_id=simple_agent.id, inputs=\"Who is Albert Einstein?\", #store=False\n",
    ")"
   ]
  },
  {
   "cell_type": "code",
   "execution_count": 5,
   "id": "7ef1620b",
   "metadata": {},
   "outputs": [
    {
     "data": {
      "text/plain": [
       "ConversationResponse(conversation_id='conv_0683929c444a7d3880007a17a14583ba', outputs=[MessageOutputEntry(content='Albert Einstein (1879–1955) was a German-born theoretical physicist who is widely regarded as one of the greatest scientists in history. He revolutionized modern physics with his groundbreaking contributions, most notably the **theory of relativity**, which fundamentally changed our understanding of space, time, and gravity.\\n\\n### **Key Contributions:**\\n1. **Special Theory of Relativity (1905)** – Introduced the idea that the laws of physics are the same for all non-accelerating observers and that the speed of light is constant, leading to the famous equation **E = mc²** (energy equals mass times the speed of light squared).\\n2. **General Theory of Relativity (1915)** – Expanded on special relativity by describing gravity as a curvature of spacetime caused by mass and energy, replacing Newton’s law of gravitation.\\n3. **Photoelectric Effect (1905)** – Explained how light can eject electrons from metals, supporting the idea that light behaves as both a wave and a particle (quantum theory). This work earned him the **Nobel Prize in Physics in 1921**.\\n4. **Brownian Motion (1905)** – Provided experimental evidence for the existence of atoms by explaining the random movement of particles in fluids.\\n5. **Cosmological Constant & Quantum Mechanics** – Though he initially resisted quantum mechanics, his work influenced its development. He also introduced the cosmological constant to explain a static universe (later revised after the discovery of the expanding universe).\\n\\n### **Personal Life & Legacy:**\\n- Born in **Ulm, Germany**, Einstein later moved to Switzerland, the U.S., and other countries due to political unrest.\\n- He was a **pacifist** and advocate for civil rights, speaking out against racism and war.\\n- His name became synonymous with genius, and his iconic equation **E = mc²** is one of the most famous in science.\\n- Einstein’s work laid the foundation for modern technologies like **GPS, nuclear energy, and quantum computing**.\\n\\nEinstein died in **1955** in Princeton, New Jersey, but his theories continue to shape our understanding of the universe.', object='entry', type='message.output', created_at=datetime.datetime(2025, 5, 30, 3, 45, 8, 384575, tzinfo=TzInfo(UTC)), completed_at=datetime.datetime(2025, 5, 30, 3, 45, 14, 459663, tzinfo=TzInfo(UTC)), id='msg_0683929c4627710a800070d0623e5c10', agent_id='ag_06839297eef97dec800070bbd4161229', model='mistral-medium-2505', role='assistant')], usage=ConversationUsageInfo(prompt_tokens=8, completion_tokens=453, total_tokens=461, connector_tokens=Unset(), connectors=Unset()), object='conversation.response')"
      ]
     },
     "execution_count": 5,
     "metadata": {},
     "output_type": "execute_result"
    }
   ],
   "source": [
    "response"
   ]
  },
  {
   "cell_type": "code",
   "execution_count": null,
   "id": "2c2ffc57",
   "metadata": {},
   "outputs": [],
   "source": []
  }
 ],
 "metadata": {
  "kernelspec": {
   "display_name": ".venv",
   "language": "python",
   "name": "python3"
  },
  "language_info": {
   "codemirror_mode": {
    "name": "ipython",
    "version": 3
   },
   "file_extension": ".py",
   "mimetype": "text/x-python",
   "name": "python",
   "nbconvert_exporter": "python",
   "pygments_lexer": "ipython3",
   "version": "3.12.1"
  }
 },
 "nbformat": 4,
 "nbformat_minor": 5
}
