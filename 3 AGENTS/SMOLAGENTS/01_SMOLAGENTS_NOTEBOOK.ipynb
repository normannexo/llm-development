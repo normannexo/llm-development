{
 "cells": [
  {
   "cell_type": "code",
   "execution_count": null,
   "metadata": {},
   "outputs": [
    {
     "name": "stderr",
     "output_type": "stream",
     "text": [
      "c:\\Users\\norma\\OneDrive\\Dokumente\\Development\\git\\llm-development\\.venv\\Lib\\site-packages\\tqdm\\auto.py:21: TqdmWarning: IProgress not found. Please update jupyter and ipywidgets. See https://ipywidgets.readthedocs.io/en/stable/user_install.html\n",
      "  from .autonotebook import tqdm as notebook_tqdm\n"
     ]
    }
   ],
   "source": [
    "import os\n",
    "import sys\n",
    "from dotenv import load_dotenv\n",
    "\n",
    "\n",
    "from ftv_smolagent_utils.agent_helper import create_anthropic_model, create_code_agent\n",
    "from ftv_smolagent_tools import VisitWebpageTool, tavily_search\n",
    "load_dotenv()\n",
    "\n",
    "visit_webpage_tool = VisitWebpageTool()\n",
    "tavily_search_tool = tavily_search\n",
    "\n",
    "# Set up environment variables\n",
    "ANTHROPIC_KEY = os.environ[\"ANTHROPIC_API_KEY\"]\n",
    "MISTRAL_KEY = os.environ[\"MISTRAL_API_KEY\"]\n",
    "\n"
   ]
  },
  {
   "cell_type": "code",
   "execution_count": 2,
   "metadata": {},
   "outputs": [
    {
     "data": {
      "text/html": [
       "<pre style=\"white-space:pre;overflow-x:auto;line-height:normal;font-family:Menlo,'DejaVu Sans Mono',consolas,'Courier New',monospace\"><span style=\"color: #d4b702; text-decoration-color: #d4b702\">╭──────────────────────────────────────────────────── </span><span style=\"color: #d4b702; text-decoration-color: #d4b702; font-weight: bold\">New run</span><span style=\"color: #d4b702; text-decoration-color: #d4b702\"> ────────────────────────────────────────────────────╮</span>\n",
       "<span style=\"color: #d4b702; text-decoration-color: #d4b702\">│</span>                                                                                                                 <span style=\"color: #d4b702; text-decoration-color: #d4b702\">│</span>\n",
       "<span style=\"color: #d4b702; text-decoration-color: #d4b702\">│</span> <span style=\"font-weight: bold\">What is the capital of France?</span>                                                                                  <span style=\"color: #d4b702; text-decoration-color: #d4b702\">│</span>\n",
       "<span style=\"color: #d4b702; text-decoration-color: #d4b702\">│</span>                                                                                                                 <span style=\"color: #d4b702; text-decoration-color: #d4b702\">│</span>\n",
       "<span style=\"color: #d4b702; text-decoration-color: #d4b702\">╰─ LiteLLMModel - claude-3-5-haiku-20241022 ──────────────────────────────────────────────────────────────────────╯</span>\n",
       "</pre>\n"
      ],
      "text/plain": [
       "\u001b[38;2;212;183;2m╭─\u001b[0m\u001b[38;2;212;183;2m───────────────────────────────────────────────────\u001b[0m\u001b[38;2;212;183;2m \u001b[0m\u001b[1;38;2;212;183;2mNew run\u001b[0m\u001b[38;2;212;183;2m \u001b[0m\u001b[38;2;212;183;2m───────────────────────────────────────────────────\u001b[0m\u001b[38;2;212;183;2m─╮\u001b[0m\n",
       "\u001b[38;2;212;183;2m│\u001b[0m                                                                                                                 \u001b[38;2;212;183;2m│\u001b[0m\n",
       "\u001b[38;2;212;183;2m│\u001b[0m \u001b[1mWhat is the capital of France?\u001b[0m                                                                                  \u001b[38;2;212;183;2m│\u001b[0m\n",
       "\u001b[38;2;212;183;2m│\u001b[0m                                                                                                                 \u001b[38;2;212;183;2m│\u001b[0m\n",
       "\u001b[38;2;212;183;2m╰─\u001b[0m\u001b[38;2;212;183;2m LiteLLMModel - claude-3-5-haiku-20241022 \u001b[0m\u001b[38;2;212;183;2m─────────────────────────────────────────────────────────────────────\u001b[0m\u001b[38;2;212;183;2m─╯\u001b[0m\n"
      ]
     },
     "metadata": {},
     "output_type": "display_data"
    },
    {
     "data": {
      "text/html": [
       "<pre style=\"white-space:pre;overflow-x:auto;line-height:normal;font-family:Menlo,'DejaVu Sans Mono',consolas,'Courier New',monospace\">────────────────────────────────────────────────── <span style=\"font-weight: bold\">Initial plan</span> ───────────────────────────────────────────────────\n",
       "Here are the facts I know and the plan of action that I will follow to solve the task:\n",
       "```\n",
       "## 1. Facts Survey\n",
       "\n",
       "### 1.1. Facts given in the task\n",
       "- The task is asking about the capital of France\n",
       "\n",
       "### 1.2. Facts to look up\n",
       "- Specific name of the capital city of France\n",
       "- Verification from a reliable source\n",
       "- Potential sources to check:\n",
       "  1. Official government websites\n",
       "  2. Geographical reference websites\n",
       "  3. Encyclopedic sources\n",
       "\n",
       "### 1.3. Facts to derive\n",
       "- Confirm the current capital (in case of any historical changes)\n",
       "- Verify the official status of the capital city\n",
       "\n",
       "## 2. Plan\n",
       "1. Conduct an initial web search to confirm the capital of France\n",
       "2. Cross-reference the search results from multiple sources\n",
       "3. Verify the information using a reliable reference source\n",
       "4. Prepare the final answer\n",
       "5. Submit the answer using the final_answer function\n",
       "\n",
       "\n",
       "```\n",
       "</pre>\n"
      ],
      "text/plain": [
       "────────────────────────────────────────────────── \u001b[1mInitial plan\u001b[0m ───────────────────────────────────────────────────\n",
       "Here are the facts I know and the plan of action that I will follow to solve the task:\n",
       "```\n",
       "## 1. Facts Survey\n",
       "\n",
       "### 1.1. Facts given in the task\n",
       "- The task is asking about the capital of France\n",
       "\n",
       "### 1.2. Facts to look up\n",
       "- Specific name of the capital city of France\n",
       "- Verification from a reliable source\n",
       "- Potential sources to check:\n",
       "  1. Official government websites\n",
       "  2. Geographical reference websites\n",
       "  3. Encyclopedic sources\n",
       "\n",
       "### 1.3. Facts to derive\n",
       "- Confirm the current capital (in case of any historical changes)\n",
       "- Verify the official status of the capital city\n",
       "\n",
       "## 2. Plan\n",
       "1. Conduct an initial web search to confirm the capital of France\n",
       "2. Cross-reference the search results from multiple sources\n",
       "3. Verify the information using a reliable reference source\n",
       "4. Prepare the final answer\n",
       "5. Submit the answer using the final_answer function\n",
       "\n",
       "\n",
       "```\n"
      ]
     },
     "metadata": {},
     "output_type": "display_data"
    },
    {
     "data": {
      "text/html": [
       "<pre style=\"white-space:pre;overflow-x:auto;line-height:normal;font-family:Menlo,'DejaVu Sans Mono',consolas,'Courier New',monospace\"><span style=\"color: #d4b702; text-decoration-color: #d4b702\">━━━━━━━━━━━━━━━━━━━━━━━━━━━━━━━━━━━━━━━━━━━━━━━━━━━━━ </span><span style=\"font-weight: bold\">Step </span><span style=\"color: #008080; text-decoration-color: #008080; font-weight: bold\">1</span><span style=\"color: #d4b702; text-decoration-color: #d4b702\"> ━━━━━━━━━━━━━━━━━━━━━━━━━━━━━━━━━━━━━━━━━━━━━━━━━━━━━━</span>\n",
       "</pre>\n"
      ],
      "text/plain": [
       "\u001b[38;2;212;183;2m━━━━━━━━━━━━━━━━━━━━━━━━━━━━━━━━━━━━━━━━━━━━━━━━━━━━━ \u001b[0m\u001b[1mStep \u001b[0m\u001b[1;36m1\u001b[0m\u001b[38;2;212;183;2m ━━━━━━━━━━━━━━━━━━━━━━━━━━━━━━━━━━━━━━━━━━━━━━━━━━━━━━\u001b[0m\n"
      ]
     },
     "metadata": {},
     "output_type": "display_data"
    },
    {
     "data": {
      "text/html": [
       "<pre style=\"white-space:pre;overflow-x:auto;line-height:normal;font-family:Menlo,'DejaVu Sans Mono',consolas,'Courier New',monospace\"> ─ <span style=\"font-weight: bold\">Executing parsed code:</span> ──────────────────────────────────────────────────────────────────────────────────────── \n",
       "  <span style=\"color: #f8f8f2; text-decoration-color: #f8f8f2; background-color: #272822\">search_result </span><span style=\"color: #ff4689; text-decoration-color: #ff4689; background-color: #272822\">=</span><span style=\"color: #f8f8f2; text-decoration-color: #f8f8f2; background-color: #272822\"> tavily_search(query</span><span style=\"color: #ff4689; text-decoration-color: #ff4689; background-color: #272822\">=</span><span style=\"color: #e6db74; text-decoration-color: #e6db74; background-color: #272822\">\"What is the capital of France\"</span><span style=\"color: #f8f8f2; text-decoration-color: #f8f8f2; background-color: #272822\">)</span><span style=\"background-color: #272822\">                                           </span>  \n",
       "  <span style=\"color: #f8f8f2; text-decoration-color: #f8f8f2; background-color: #272822\">print(search_result)</span><span style=\"background-color: #272822\">                                                                                           </span>  \n",
       " ───────────────────────────────────────────────────────────────────────────────────────────────────────────────── \n",
       "</pre>\n"
      ],
      "text/plain": [
       " ─ \u001b[1mExecuting parsed code:\u001b[0m ──────────────────────────────────────────────────────────────────────────────────────── \n",
       "  \u001b[38;2;248;248;242;48;2;39;40;34msearch_result\u001b[0m\u001b[38;2;248;248;242;48;2;39;40;34m \u001b[0m\u001b[38;2;255;70;137;48;2;39;40;34m=\u001b[0m\u001b[38;2;248;248;242;48;2;39;40;34m \u001b[0m\u001b[38;2;248;248;242;48;2;39;40;34mtavily_search\u001b[0m\u001b[38;2;248;248;242;48;2;39;40;34m(\u001b[0m\u001b[38;2;248;248;242;48;2;39;40;34mquery\u001b[0m\u001b[38;2;255;70;137;48;2;39;40;34m=\u001b[0m\u001b[38;2;230;219;116;48;2;39;40;34m\"\u001b[0m\u001b[38;2;230;219;116;48;2;39;40;34mWhat is the capital of France\u001b[0m\u001b[38;2;230;219;116;48;2;39;40;34m\"\u001b[0m\u001b[38;2;248;248;242;48;2;39;40;34m)\u001b[0m\u001b[48;2;39;40;34m                                           \u001b[0m  \n",
       "  \u001b[38;2;248;248;242;48;2;39;40;34mprint\u001b[0m\u001b[38;2;248;248;242;48;2;39;40;34m(\u001b[0m\u001b[38;2;248;248;242;48;2;39;40;34msearch_result\u001b[0m\u001b[38;2;248;248;242;48;2;39;40;34m)\u001b[0m\u001b[48;2;39;40;34m                                                                                           \u001b[0m  \n",
       " ───────────────────────────────────────────────────────────────────────────────────────────────────────────────── \n"
      ]
     },
     "metadata": {},
     "output_type": "display_data"
    },
    {
     "data": {
      "text/html": [
       "<pre style=\"white-space:pre;overflow-x:auto;line-height:normal;font-family:Menlo,'DejaVu Sans Mono',consolas,'Courier New',monospace\"><span style=\"font-weight: bold\">Execution logs:</span>\n",
       "[{'title': 'What is the Capital of France? - WorldAtlas', 'url': \n",
       "'https://www.worldatlas.com/articles/what-is-the-capital-of-france.html', 'content': 'Paris is the capital city of \n",
       "France. The city has an approximate area of 41 square miles with a population of 2,206,488 people as of 2018. \n",
       "Instead, the name Paris is derived from the city’s initial inhabitants who were part of the Celtic Parisii tribe. \n",
       "Sometimes, the city is called the City of Light for two reasons; it was among the first cities to adopt gas for \n",
       "lighting the streets and its role during the Age of Enlightenment. Administration As the capital city of France, \n",
       "the city plays host to the national government of France.', 'score': 0.9245858, 'raw_content': None}, {'title': \n",
       "'Paris - Wikipedia', 'url': 'https://en.wikipedia.org/wiki/Paris', 'content': \"Paris (French pronunciation: ⓘ) is \n",
       "the capital and largest city of France.With an estimated population of 2,048,472 residents in January 2025 [3] in \n",
       "an area of more than 105 km 2 (41 sq mi), [4] Paris is the fourth-most populous city in the European Union and the \n",
       "30th most densely populated city in the world in 2022. [5] Since the 17th century, Paris has been one of the \n",
       "world's major centres\", 'score': 0.8706085, 'raw_content': None}, {'title': 'Paris: Facts &amp; Related Content - \n",
       "Encyclopedia Britannica', 'url': 'https://www.britannica.com/facts/Paris', 'content': 'Search Britannica Click here\n",
       "to search SUBSCRIBE Login Ask the Chatbot Games &amp; Quizzes History &amp; Society Science &amp; Tech Biographies Animals &amp; \n",
       "Nature Geography &amp; Travel Arts &amp; Culture ProCon Money Videos Home Geography &amp; Travel Cities &amp; Towns Cities &amp; Towns \n",
       "P-S Paris: Facts &amp; Related Content Cite Share Written and fact-checked by The Information Architects of \n",
       "Encyclopaedia Britannica Paris, the capital of France, is located in the north-central portion of the country. It \n",
       "constitutes one of the départements of the Île-de-France administrative region and is France\\'s most important \n",
       "centre of commerce and culture. The city is home to the Eiffel Tower, one of the world\\'s premier tourist \n",
       "attractions, which opened to the public on May 15, 1889. Paris earned its sobriquet \"the City of Light\" (\"la Ville \n",
       "Lumière\") during the Enlightenment, in recognition of its importantance as a centre for education and intellectual \n",
       "pursuits. By the end of the 3rd century BCE, a settlement had been built on the Île de la Cité; it was inhabited by\n",
       "a Gallic tribe known as the Parisii.', 'score': 0.8325776, 'raw_content': None}, {'title': 'Paris | Definition, \n",
       "Map, Population, Facts, &amp; History | Britannica', 'url': 'https://www.britannica.com/place/Paris', 'content': \"News \n",
       "• JD Vance will attend AI summit in Paris and Munich security conference in first overseas trip as VP • Feb. 4, \n",
       "2025, 11:53 AM ET (AP) ...(Show more) Film director found guilty of sexual assault in France’s first big #MeToo \n",
       "trial • Feb. 3, 2025, 9:20 AM ET (AP) Gisèle Pelicot's ex-husband, imprisoned for raping and drugging her, now \n",
       "caught up in other cases • Jan. 30, 2025, 11:56 AM ET (AP) More schools in France are getting special mailboxes for\n",
       "children to flag abuse • Jan. 30, 2025, 10:29 AM ET (AP) Valentino's new designer showcases history and drama at \n",
       "couture debut in Paris • Jan. 29, 2025, 11:24 AM ET (AP) Show less Paris, city and capital of France, situated in \n",
       "the north-central part of the country. The modern city has spread from the island (the Île de la Cité) and far \n",
       "beyond both banks of the Seine. Paris(more) Paris occupies a central position in the rich agricultural region known\n",
       "as the Paris Basin, and it constitutes one of eight départements of the Île-de-France administrative region. It is \n",
       "by far the country’s most important centre of commerce and culture. Character of the city For centuries Paris has \n",
       "been one of the world’s most important and attractive cities.\", 'score': 0.7576693, 'raw_content': None}, {'title':\n",
       "'France | History, Maps, Flag, Population, Cities, Capital, &amp; Facts ...', 'url': \n",
       "'https://www.britannica.com/place/France', 'content': '(more) France, country of northwestern Europe. Historically \n",
       "and culturally among the most important nations in the Western world, France has also played a highly significant \n",
       "role in international affairs, with former colonies in every corner of the globe. Bounded by the Atlantic Ocean and\n",
       "the Mediterranean Sea, the Alps and the Pyrenees, France has long provided a geographic, economic, and linguistic \n",
       "bridge joining northern and southern Europe. It is Europe’s most important agricultural producer and one of the \n",
       "world’s leading industrial powers. France(more) France is among the globe’s oldest nations, the product of an \n",
       "alliance of duchies and principalities under a single ruler in the Middle Ages.', 'score': 0.2426006, \n",
       "'raw_content': None}]\n",
       "\n",
       "Out: None\n",
       "</pre>\n"
      ],
      "text/plain": [
       "\u001b[1mExecution logs:\u001b[0m\n",
       "[{'title': 'What is the Capital of France? - WorldAtlas', 'url': \n",
       "'https://www.worldatlas.com/articles/what-is-the-capital-of-france.html', 'content': 'Paris is the capital city of \n",
       "France. The city has an approximate area of 41 square miles with a population of 2,206,488 people as of 2018. \n",
       "Instead, the name Paris is derived from the city’s initial inhabitants who were part of the Celtic Parisii tribe. \n",
       "Sometimes, the city is called the City of Light for two reasons; it was among the first cities to adopt gas for \n",
       "lighting the streets and its role during the Age of Enlightenment. Administration As the capital city of France, \n",
       "the city plays host to the national government of France.', 'score': 0.9245858, 'raw_content': None}, {'title': \n",
       "'Paris - Wikipedia', 'url': 'https://en.wikipedia.org/wiki/Paris', 'content': \"Paris (French pronunciation: ⓘ) is \n",
       "the capital and largest city of France.With an estimated population of 2,048,472 residents in January 2025 [3] in \n",
       "an area of more than 105 km 2 (41 sq mi), [4] Paris is the fourth-most populous city in the European Union and the \n",
       "30th most densely populated city in the world in 2022. [5] Since the 17th century, Paris has been one of the \n",
       "world's major centres\", 'score': 0.8706085, 'raw_content': None}, {'title': 'Paris: Facts & Related Content - \n",
       "Encyclopedia Britannica', 'url': 'https://www.britannica.com/facts/Paris', 'content': 'Search Britannica Click here\n",
       "to search SUBSCRIBE Login Ask the Chatbot Games & Quizzes History & Society Science & Tech Biographies Animals & \n",
       "Nature Geography & Travel Arts & Culture ProCon Money Videos Home Geography & Travel Cities & Towns Cities & Towns \n",
       "P-S Paris: Facts & Related Content Cite Share Written and fact-checked by The Information Architects of \n",
       "Encyclopaedia Britannica Paris, the capital of France, is located in the north-central portion of the country. It \n",
       "constitutes one of the départements of the Île-de-France administrative region and is France\\'s most important \n",
       "centre of commerce and culture. The city is home to the Eiffel Tower, one of the world\\'s premier tourist \n",
       "attractions, which opened to the public on May 15, 1889. Paris earned its sobriquet \"the City of Light\" (\"la Ville \n",
       "Lumière\") during the Enlightenment, in recognition of its importantance as a centre for education and intellectual \n",
       "pursuits. By the end of the 3rd century BCE, a settlement had been built on the Île de la Cité; it was inhabited by\n",
       "a Gallic tribe known as the Parisii.', 'score': 0.8325776, 'raw_content': None}, {'title': 'Paris | Definition, \n",
       "Map, Population, Facts, & History | Britannica', 'url': 'https://www.britannica.com/place/Paris', 'content': \"News \n",
       "• JD Vance will attend AI summit in Paris and Munich security conference in first overseas trip as VP • Feb. 4, \n",
       "2025, 11:53 AM ET (AP) ...(Show more) Film director found guilty of sexual assault in France’s first big #MeToo \n",
       "trial • Feb. 3, 2025, 9:20 AM ET (AP) Gisèle Pelicot's ex-husband, imprisoned for raping and drugging her, now \n",
       "caught up in other cases • Jan. 30, 2025, 11:56 AM ET (AP) More schools in France are getting special mailboxes for\n",
       "children to flag abuse • Jan. 30, 2025, 10:29 AM ET (AP) Valentino's new designer showcases history and drama at \n",
       "couture debut in Paris • Jan. 29, 2025, 11:24 AM ET (AP) Show less Paris, city and capital of France, situated in \n",
       "the north-central part of the country. The modern city has spread from the island (the Île de la Cité) and far \n",
       "beyond both banks of the Seine. Paris(more) Paris occupies a central position in the rich agricultural region known\n",
       "as the Paris Basin, and it constitutes one of eight départements of the Île-de-France administrative region. It is \n",
       "by far the country’s most important centre of commerce and culture. Character of the city For centuries Paris has \n",
       "been one of the world’s most important and attractive cities.\", 'score': 0.7576693, 'raw_content': None}, {'title':\n",
       "'France | History, Maps, Flag, Population, Cities, Capital, & Facts ...', 'url': \n",
       "'https://www.britannica.com/place/France', 'content': '(more) France, country of northwestern Europe. Historically \n",
       "and culturally among the most important nations in the Western world, France has also played a highly significant \n",
       "role in international affairs, with former colonies in every corner of the globe. Bounded by the Atlantic Ocean and\n",
       "the Mediterranean Sea, the Alps and the Pyrenees, France has long provided a geographic, economic, and linguistic \n",
       "bridge joining northern and southern Europe. It is Europe’s most important agricultural producer and one of the \n",
       "world’s leading industrial powers. France(more) France is among the globe’s oldest nations, the product of an \n",
       "alliance of duchies and principalities under a single ruler in the Middle Ages.', 'score': 0.2426006, \n",
       "'raw_content': None}]\n",
       "\n",
       "Out: None\n"
      ]
     },
     "metadata": {},
     "output_type": "display_data"
    },
    {
     "data": {
      "text/html": [
       "<pre style=\"white-space:pre;overflow-x:auto;line-height:normal;font-family:Menlo,'DejaVu Sans Mono',consolas,'Courier New',monospace\"><span style=\"color: #7f7f7f; text-decoration-color: #7f7f7f\">[Step 1: Duration 10.97 seconds| Input tokens: 2,614 | Output tokens: 62]</span>\n",
       "</pre>\n"
      ],
      "text/plain": [
       "\u001b[2m[Step 1: Duration 10.97 seconds| Input tokens: 2,614 | Output tokens: 62]\u001b[0m\n"
      ]
     },
     "metadata": {},
     "output_type": "display_data"
    },
    {
     "data": {
      "text/html": [
       "<pre style=\"white-space:pre;overflow-x:auto;line-height:normal;font-family:Menlo,'DejaVu Sans Mono',consolas,'Courier New',monospace\"><span style=\"color: #d4b702; text-decoration-color: #d4b702\">━━━━━━━━━━━━━━━━━━━━━━━━━━━━━━━━━━━━━━━━━━━━━━━━━━━━━ </span><span style=\"font-weight: bold\">Step </span><span style=\"color: #008080; text-decoration-color: #008080; font-weight: bold\">2</span><span style=\"color: #d4b702; text-decoration-color: #d4b702\"> ━━━━━━━━━━━━━━━━━━━━━━━━━━━━━━━━━━━━━━━━━━━━━━━━━━━━━━</span>\n",
       "</pre>\n"
      ],
      "text/plain": [
       "\u001b[38;2;212;183;2m━━━━━━━━━━━━━━━━━━━━━━━━━━━━━━━━━━━━━━━━━━━━━━━━━━━━━ \u001b[0m\u001b[1mStep \u001b[0m\u001b[1;36m2\u001b[0m\u001b[38;2;212;183;2m ━━━━━━━━━━━━━━━━━━━━━━━━━━━━━━━━━━━━━━━━━━━━━━━━━━━━━━\u001b[0m\n"
      ]
     },
     "metadata": {},
     "output_type": "display_data"
    },
    {
     "data": {
      "text/html": [
       "<pre style=\"white-space:pre;overflow-x:auto;line-height:normal;font-family:Menlo,'DejaVu Sans Mono',consolas,'Courier New',monospace\"> ─ <span style=\"font-weight: bold\">Executing parsed code:</span> ──────────────────────────────────────────────────────────────────────────────────────── \n",
       "  <span style=\"color: #f8f8f2; text-decoration-color: #f8f8f2; background-color: #272822\">final_answer(</span><span style=\"color: #e6db74; text-decoration-color: #e6db74; background-color: #272822\">\"Paris\"</span><span style=\"color: #f8f8f2; text-decoration-color: #f8f8f2; background-color: #272822\">)</span><span style=\"background-color: #272822\">                                                                                          </span>  \n",
       " ───────────────────────────────────────────────────────────────────────────────────────────────────────────────── \n",
       "</pre>\n"
      ],
      "text/plain": [
       " ─ \u001b[1mExecuting parsed code:\u001b[0m ──────────────────────────────────────────────────────────────────────────────────────── \n",
       "  \u001b[38;2;248;248;242;48;2;39;40;34mfinal_answer\u001b[0m\u001b[38;2;248;248;242;48;2;39;40;34m(\u001b[0m\u001b[38;2;230;219;116;48;2;39;40;34m\"\u001b[0m\u001b[38;2;230;219;116;48;2;39;40;34mParis\u001b[0m\u001b[38;2;230;219;116;48;2;39;40;34m\"\u001b[0m\u001b[38;2;248;248;242;48;2;39;40;34m)\u001b[0m\u001b[48;2;39;40;34m                                                                                          \u001b[0m  \n",
       " ───────────────────────────────────────────────────────────────────────────────────────────────────────────────── \n"
      ]
     },
     "metadata": {},
     "output_type": "display_data"
    },
    {
     "data": {
      "text/html": [
       "<pre style=\"white-space:pre;overflow-x:auto;line-height:normal;font-family:Menlo,'DejaVu Sans Mono',consolas,'Courier New',monospace\"><span style=\"color: #d4b702; text-decoration-color: #d4b702; font-weight: bold\">Out - Final answer: Paris</span>\n",
       "</pre>\n"
      ],
      "text/plain": [
       "\u001b[1;38;2;212;183;2mOut - Final answer: Paris\u001b[0m\n"
      ]
     },
     "metadata": {},
     "output_type": "display_data"
    },
    {
     "data": {
      "text/html": [
       "<pre style=\"white-space:pre;overflow-x:auto;line-height:normal;font-family:Menlo,'DejaVu Sans Mono',consolas,'Courier New',monospace\"><span style=\"color: #7f7f7f; text-decoration-color: #7f7f7f\">[Step 2: Duration 3.49 seconds| Input tokens: 6,667 | Output tokens: 112]</span>\n",
       "</pre>\n"
      ],
      "text/plain": [
       "\u001b[2m[Step 2: Duration 3.49 seconds| Input tokens: 6,667 | Output tokens: 112]\u001b[0m\n"
      ]
     },
     "metadata": {},
     "output_type": "display_data"
    },
    {
     "data": {
      "text/plain": [
       "'Paris'"
      ]
     },
     "execution_count": 2,
     "metadata": {},
     "output_type": "execute_result"
    }
   ],
   "source": [
    "# Set up telemetry\n",
    "#setup_telemetry(LANGFUSE_PUBLIC_KEY, LANGFUSE_SECRET_KEY)\n",
    "\n",
    "# Import the BasicAgent class from basicsmolagent.py\n",
    "model = create_anthropic_model(api_key=ANTHROPIC_KEY, model_id=\"claude-3-5-haiku-20241022\")\n",
    "\n",
    "\n",
    "agent = create_code_agent(model=model, tools=[visit_webpage_tool, tavily_search_tool])\n",
    "agent.run(\"What is the capital of France?\") \n"
   ]
  }
 ],
 "metadata": {
  "kernelspec": {
   "display_name": ".venv",
   "language": "python",
   "name": "python3"
  },
  "language_info": {
   "codemirror_mode": {
    "name": "ipython",
    "version": 3
   },
   "file_extension": ".py",
   "mimetype": "text/x-python",
   "name": "python",
   "nbconvert_exporter": "python",
   "pygments_lexer": "ipython3",
   "version": "3.12.1"
  }
 },
 "nbformat": 4,
 "nbformat_minor": 2
}
